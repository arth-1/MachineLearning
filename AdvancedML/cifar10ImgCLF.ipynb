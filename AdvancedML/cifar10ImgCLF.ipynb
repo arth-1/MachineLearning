{
  "nbformat": 4,
  "nbformat_minor": 0,
  "metadata": {
    "colab": {
      "provenance": []
    },
    "kernelspec": {
      "name": "python3",
      "display_name": "Python 3"
    },
    "language_info": {
      "name": "python"
    }
  },
  "cells": [
    {
      "cell_type": "code",
      "execution_count": null,
      "metadata": {
        "colab": {
          "base_uri": "https://localhost:8080/"
        },
        "id": "ABvMOTUre6d7",
        "outputId": "aa29e531-da70-4ee0-f42b-93bd68ce8fff"
      },
      "outputs": [
        {
          "output_type": "stream",
          "name": "stderr",
          "text": [
            "2025-01-20 04:25:21.142676: I tensorflow/core/util/port.cc:111] oneDNN custom operations are on. You may see slightly different numerical results due to floating-point round-off errors from different computation orders. To turn them off, set the environment variable `TF_ENABLE_ONEDNN_OPTS=0`.\n",
            "2025-01-20 04:25:21.185034: E tensorflow/compiler/xla/stream_executor/cuda/cuda_dnn.cc:9342] Unable to register cuDNN factory: Attempting to register factory for plugin cuDNN when one has already been registered\n",
            "2025-01-20 04:25:21.185067: E tensorflow/compiler/xla/stream_executor/cuda/cuda_fft.cc:609] Unable to register cuFFT factory: Attempting to register factory for plugin cuFFT when one has already been registered\n",
            "2025-01-20 04:25:21.185126: E tensorflow/compiler/xla/stream_executor/cuda/cuda_blas.cc:1518] Unable to register cuBLAS factory: Attempting to register factory for plugin cuBLAS when one has already been registered\n",
            "2025-01-20 04:25:21.201285: I tensorflow/core/platform/cpu_feature_guard.cc:182] This TensorFlow binary is optimized to use available CPU instructions in performance-critical operations.\n",
            "To enable the following instructions: AVX2 AVX512F AVX512_VNNI AVX512_BF16 FMA, in other operations, rebuild TensorFlow with the appropriate compiler flags.\n",
            "2025-01-20 04:25:21.920844: W tensorflow/compiler/tf2tensorrt/utils/py_utils.cc:38] TF-TRT Warning: Could not find TensorRT\n",
            "/home/arth/.local/lib/python3.11/site-packages/matplotlib/projections/__init__.py:63: UserWarning: Unable to import Axes3D. This may be due to multiple versions of Matplotlib being installed (e.g. as a system package and as a pip package). As a result, the 3D projection is not available.\n",
            "  warnings.warn(\"Unable to import Axes3D. This may be due to multiple versions of \"\n",
            "2025-01-20 04:25:25.170134: I tensorflow/compiler/xla/stream_executor/cuda/cuda_gpu_executor.cc:880] could not open file to read NUMA node: /sys/bus/pci/devices/0000:01:00.0/numa_node\n",
            "Your kernel may have been built without NUMA support.\n",
            "2025-01-20 04:25:25.334450: I tensorflow/compiler/xla/stream_executor/cuda/cuda_gpu_executor.cc:880] could not open file to read NUMA node: /sys/bus/pci/devices/0000:01:00.0/numa_node\n",
            "Your kernel may have been built without NUMA support.\n",
            "2025-01-20 04:25:25.334486: I tensorflow/compiler/xla/stream_executor/cuda/cuda_gpu_executor.cc:880] could not open file to read NUMA node: /sys/bus/pci/devices/0000:01:00.0/numa_node\n",
            "Your kernel may have been built without NUMA support.\n",
            "2025-01-20 04:25:25.338631: I tensorflow/compiler/xla/stream_executor/cuda/cuda_gpu_executor.cc:880] could not open file to read NUMA node: /sys/bus/pci/devices/0000:01:00.0/numa_node\n",
            "Your kernel may have been built without NUMA support.\n",
            "2025-01-20 04:25:25.338671: I tensorflow/compiler/xla/stream_executor/cuda/cuda_gpu_executor.cc:880] could not open file to read NUMA node: /sys/bus/pci/devices/0000:01:00.0/numa_node\n",
            "Your kernel may have been built without NUMA support.\n",
            "2025-01-20 04:25:25.338687: I tensorflow/compiler/xla/stream_executor/cuda/cuda_gpu_executor.cc:880] could not open file to read NUMA node: /sys/bus/pci/devices/0000:01:00.0/numa_node\n",
            "Your kernel may have been built without NUMA support.\n",
            "2025-01-20 04:25:26.163428: I tensorflow/compiler/xla/stream_executor/cuda/cuda_gpu_executor.cc:880] could not open file to read NUMA node: /sys/bus/pci/devices/0000:01:00.0/numa_node\n",
            "Your kernel may have been built without NUMA support.\n",
            "2025-01-20 04:25:26.163504: I tensorflow/compiler/xla/stream_executor/cuda/cuda_gpu_executor.cc:880] could not open file to read NUMA node: /sys/bus/pci/devices/0000:01:00.0/numa_node\n",
            "Your kernel may have been built without NUMA support.\n",
            "2025-01-20 04:25:26.163511: I tensorflow/core/common_runtime/gpu/gpu_device.cc:1977] Could not identify NUMA node of platform GPU id 0, defaulting to 0.  Your kernel may not have been built with NUMA support.\n",
            "2025-01-20 04:25:26.163548: I tensorflow/compiler/xla/stream_executor/cuda/cuda_gpu_executor.cc:880] could not open file to read NUMA node: /sys/bus/pci/devices/0000:01:00.0/numa_node\n",
            "Your kernel may have been built without NUMA support.\n",
            "2025-01-20 04:25:26.163579: I tensorflow/core/common_runtime/gpu/gpu_device.cc:1886] Created device /job:localhost/replica:0/task:0/device:GPU:0 with 5563 MB memory:  -> device: 0, name: NVIDIA GeForce RTX 4060 Laptop GPU, pci bus id: 0000:01:00.0, compute capability: 8.9\n"
          ]
        }
      ],
      "source": [
        "import tensorflow as tf\n",
        "from tensorflow import keras\n",
        "import numpy as np\n",
        "import matplotlib.pyplot as plt\n",
        "\n",
        "keras.backend.clear_session()\n",
        "tf.random.set_seed(42)\n",
        "np.random.seed(42)\n",
        "\n",
        "model = keras.models.Sequential()\n",
        "model.add(keras.layers.Flatten(input_shape=[32, 32, 3]))\n",
        "for _ in range(20):\n",
        "    model.add(keras.layers.Dense(100,\n",
        "                                 activation=\"elu\",\n",
        "                                 kernel_initializer=\"he_normal\"))"
      ]
    },
    {
      "cell_type": "code",
      "source": [
        "model.add(keras.layers.Dense(10, activation=\"softmax\"))"
      ],
      "metadata": {
        "id": "8c0LavNyfZh5"
      },
      "execution_count": null,
      "outputs": []
    },
    {
      "cell_type": "code",
      "source": [
        "optimizer = keras.optimizers.Nadam(learning_rate=5e-5)\n",
        "model.compile(loss=\"sparse_categorical_crossentropy\",\n",
        "              optimizer=optimizer,\n",
        "              metrics=[\"accuracy\"])"
      ],
      "metadata": {
        "id": "_s05WI2Sf6Xj"
      },
      "execution_count": null,
      "outputs": []
    },
    {
      "cell_type": "code",
      "source": [
        "(X_train_full, y_train_full), (X_test, y_test) = keras.datasets.cifar10.load_data()\n",
        "\n",
        "X_train = X_train_full[5000:]\n",
        "y_train = y_train_full[5000:]\n",
        "X_val = X_train_full[:5000]\n",
        "y_val = y_train_full[:5000]"
      ],
      "metadata": {
        "id": "HinsAfj9gCSk"
      },
      "execution_count": null,
      "outputs": []
    },
    {
      "cell_type": "code",
      "source": [
        "import os\n",
        "\n",
        "early_stopping_cb = keras.callbacks.EarlyStopping(patience=20)\n",
        "model_checkpoint_cb = keras.callbacks.ModelCheckpoint(\"my_cifar10_model.h5\", save_best_only=True)\n",
        "run_index = 1 # increment every time you train the model\n",
        "run_logdir = os.path.join(os.curdir, \"my_cifar10_logs\", \"run_{:03d}\".format(run_index))\n",
        "tensorboard_cb = keras.callbacks.TensorBoard(run_logdir)\n",
        "callbacks = [early_stopping_cb, model_checkpoint_cb, tensorboard_cb]"
      ],
      "metadata": {
        "id": "o3HnF9TTgoX-"
      },
      "execution_count": null,
      "outputs": []
    },
    {
      "cell_type": "code",
      "source": [
        "!tensorboard --logdir=./my_cifar10_logs --port=6006"
      ],
      "metadata": {
        "colab": {
          "base_uri": "https://localhost:8080/"
        },
        "id": "BH7s_ynEhR-u",
        "outputId": "de37b5a5-fcc4-43e6-ed6f-d9f2b3b64a06"
      },
      "execution_count": null,
      "outputs": [
        {
          "output_type": "stream",
          "name": "stdout",
          "text": [
            "2025-01-18 13:07:51.947648: I tensorflow/core/util/port.cc:111] oneDNN custom operations are on. You may see slightly different numerical results due to floating-point round-off errors from different computation orders. To turn them off, set the environment variable `TF_ENABLE_ONEDNN_OPTS=0`.\n",
            "2025-01-18 13:07:51.972173: E tensorflow/compiler/xla/stream_executor/cuda/cuda_dnn.cc:9342] Unable to register cuDNN factory: Attempting to register factory for plugin cuDNN when one has already been registered\n",
            "2025-01-18 13:07:51.972238: E tensorflow/compiler/xla/stream_executor/cuda/cuda_fft.cc:609] Unable to register cuFFT factory: Attempting to register factory for plugin cuFFT when one has already been registered\n",
            "2025-01-18 13:07:51.972259: E tensorflow/compiler/xla/stream_executor/cuda/cuda_blas.cc:1518] Unable to register cuBLAS factory: Attempting to register factory for plugin cuBLAS when one has already been registered\n",
            "2025-01-18 13:07:51.977460: I tensorflow/core/platform/cpu_feature_guard.cc:182] This TensorFlow binary is optimized to use available CPU instructions in performance-critical operations.\n",
            "To enable the following instructions: AVX2 AVX512F AVX512_VNNI AVX512_BF16 FMA, in other operations, rebuild TensorFlow with the appropriate compiler flags.\n",
            "2025-01-18 13:07:52.839225: W tensorflow/compiler/tf2tensorrt/utils/py_utils.cc:38] TF-TRT Warning: Could not find TensorRT\n",
            "2025-01-18 13:07:54.185433: I tensorflow/compiler/xla/stream_executor/cuda/cuda_gpu_executor.cc:880] could not open file to read NUMA node: /sys/bus/pci/devices/0000:01:00.0/numa_node\n",
            "Your kernel may have been built without NUMA support.\n",
            "2025-01-18 13:07:54.255252: I tensorflow/compiler/xla/stream_executor/cuda/cuda_gpu_executor.cc:880] could not open file to read NUMA node: /sys/bus/pci/devices/0000:01:00.0/numa_node\n",
            "Your kernel may have been built without NUMA support.\n",
            "2025-01-18 13:07:54.255308: I tensorflow/compiler/xla/stream_executor/cuda/cuda_gpu_executor.cc:880] could not open file to read NUMA node: /sys/bus/pci/devices/0000:01:00.0/numa_node\n",
            "Your kernel may have been built without NUMA support.\n",
            "\n",
            "NOTE: Using experimental fast data loading logic. To disable, pass\n",
            "    \"--load_fast=false\" and report issues on GitHub. More details:\n",
            "    https://github.com/tensorflow/tensorboard/issues/4784\n",
            "\n",
            "Serving TensorBoard on localhost; to expose to the network, use a proxy or pass --bind_all\n",
            "TensorBoard 2.14.1 at http://localhost:6006/ (Press CTRL+C to quit)\n",
            "^C\n"
          ]
        }
      ]
    },
    {
      "cell_type": "code",
      "source": [
        "model.fit(X_train, y_train, epochs=100, batch_size=256, validation_data=(X_val, y_val), callbacks=callbacks)"
      ],
      "metadata": {
        "colab": {
          "base_uri": "https://localhost:8080/"
        },
        "id": "KD4LHIQJhpji",
        "outputId": "d8be7c08-2747-4dd3-da5e-8ca7dd816d1c"
      },
      "execution_count": null,
      "outputs": [
        {
          "output_type": "stream",
          "name": "stdout",
          "text": [
            "Epoch 1/100\n",
            "176/176 [==============================] - 3s 16ms/step - loss: 1.2157 - accuracy: 0.5633 - val_loss: 1.4817 - val_accuracy: 0.4876\n",
            "Epoch 2/100\n",
            "176/176 [==============================] - 6s 32ms/step - loss: 1.1926 - accuracy: 0.5717 - val_loss: 1.4855 - val_accuracy: 0.4816\n",
            "Epoch 3/100\n",
            "176/176 [==============================] - 3s 15ms/step - loss: 1.1841 - accuracy: 0.5758 - val_loss: 1.4927 - val_accuracy: 0.4826\n",
            "Epoch 4/100\n",
            "176/176 [==============================] - 3s 15ms/step - loss: 1.1780 - accuracy: 0.5785 - val_loss: 1.4904 - val_accuracy: 0.4884\n",
            "Epoch 5/100\n",
            "176/176 [==============================] - 3s 15ms/step - loss: 1.1725 - accuracy: 0.5813 - val_loss: 1.5009 - val_accuracy: 0.4790\n",
            "Epoch 6/100\n",
            "176/176 [==============================] - 3s 15ms/step - loss: 1.1688 - accuracy: 0.5828 - val_loss: 1.5035 - val_accuracy: 0.4820\n",
            "Epoch 7/100\n",
            "176/176 [==============================] - 3s 15ms/step - loss: 1.1647 - accuracy: 0.5832 - val_loss: 1.5082 - val_accuracy: 0.4792\n",
            "Epoch 8/100\n",
            "176/176 [==============================] - 3s 15ms/step - loss: 1.1606 - accuracy: 0.5849 - val_loss: 1.5133 - val_accuracy: 0.4836\n",
            "Epoch 9/100\n",
            "176/176 [==============================] - 3s 15ms/step - loss: 1.1559 - accuracy: 0.5865 - val_loss: 1.5124 - val_accuracy: 0.4824\n",
            "Epoch 10/100\n",
            "176/176 [==============================] - 3s 15ms/step - loss: 1.1534 - accuracy: 0.5863 - val_loss: 1.5249 - val_accuracy: 0.4804\n",
            "Epoch 11/100\n",
            "176/176 [==============================] - 3s 15ms/step - loss: 1.1508 - accuracy: 0.5873 - val_loss: 1.5106 - val_accuracy: 0.4814\n",
            "Epoch 12/100\n",
            "176/176 [==============================] - 3s 15ms/step - loss: 1.1453 - accuracy: 0.5908 - val_loss: 1.5207 - val_accuracy: 0.4812\n",
            "Epoch 13/100\n",
            "176/176 [==============================] - 3s 15ms/step - loss: 1.1422 - accuracy: 0.5918 - val_loss: 1.5255 - val_accuracy: 0.4792\n",
            "Epoch 14/100\n",
            "176/176 [==============================] - 6s 32ms/step - loss: 1.1406 - accuracy: 0.5922 - val_loss: 1.5328 - val_accuracy: 0.4770\n",
            "Epoch 15/100\n",
            "176/176 [==============================] - 3s 15ms/step - loss: 1.1350 - accuracy: 0.5942 - val_loss: 1.5233 - val_accuracy: 0.4780\n",
            "Epoch 16/100\n",
            "176/176 [==============================] - 3s 16ms/step - loss: 1.1292 - accuracy: 0.5952 - val_loss: 1.5481 - val_accuracy: 0.4778\n",
            "Epoch 17/100\n",
            "176/176 [==============================] - 3s 15ms/step - loss: 1.1242 - accuracy: 0.5979 - val_loss: 1.5427 - val_accuracy: 0.4768\n",
            "Epoch 18/100\n",
            "176/176 [==============================] - 3s 16ms/step - loss: 1.1239 - accuracy: 0.5971 - val_loss: 1.5333 - val_accuracy: 0.4856\n",
            "Epoch 19/100\n",
            "176/176 [==============================] - 3s 15ms/step - loss: 1.1168 - accuracy: 0.6005 - val_loss: 1.5545 - val_accuracy: 0.4812\n",
            "Epoch 20/100\n",
            "176/176 [==============================] - 3s 15ms/step - loss: 1.1125 - accuracy: 0.6027 - val_loss: 1.5349 - val_accuracy: 0.4846\n",
            "Epoch 21/100\n",
            "176/176 [==============================] - 3s 15ms/step - loss: 1.1062 - accuracy: 0.6049 - val_loss: 1.5613 - val_accuracy: 0.4812\n"
          ]
        },
        {
          "output_type": "execute_result",
          "data": {
            "text/plain": [
              "<keras.src.callbacks.History at 0x7f844c4fbf50>"
            ]
          },
          "metadata": {},
          "execution_count": 20
        }
      ]
    },
    {
      "cell_type": "code",
      "source": [
        "model = keras.models.load_model(\"my_cifar10_model.h5\")\n",
        "model.evaluate(X_val, y_val)"
      ],
      "metadata": {
        "colab": {
          "base_uri": "https://localhost:8080/"
        },
        "id": "Os8uba7_iWgt",
        "outputId": "f3dc8dce-7138-44a0-9e4e-f53b71d698fd"
      },
      "execution_count": null,
      "outputs": [
        {
          "output_type": "stream",
          "name": "stdout",
          "text": [
            "157/157 [==============================] - 1s 4ms/step - loss: 1.4817 - accuracy: 0.4876\n"
          ]
        },
        {
          "output_type": "execute_result",
          "data": {
            "text/plain": [
              "[1.4816808700561523, 0.4875999987125397]"
            ]
          },
          "metadata": {},
          "execution_count": 22
        }
      ]
    },
    {
      "cell_type": "code",
      "source": [
        "keras.backend.clear_session()\n",
        "tf.random.set_seed(42)\n",
        "np.random.seed(42)\n",
        "\n",
        "model = keras.models.Sequential()\n",
        "model.add(keras.layers.Flatten(input_shape=[32, 32, 3]))\n",
        "\n",
        "for _ in range(20):\n",
        "    model.add(keras.layers.Dense(100,\n",
        "                                 kernel_initializer=\"he_normal\"))\n",
        "    model.add(keras.layers.BatchNormalization())\n",
        "    model.add(keras.layers.Activation(\"elu\"))\n",
        "\n",
        "model.add(keras.layers.Dense(10, activation=\"softmax\"))\n",
        "\n",
        "optimizer = keras.optimizers.Nadam(learning_rate=5e-4)\n",
        "model.compile(loss=\"sparse_categorical_crossentropy\",\n",
        "              optimizer=optimizer,\n",
        "              metrics=[\"accuracy\"])\n",
        "\n",
        "early_stopping_cb = keras.callbacks.EarlyStopping(patience=20)\n",
        "model_checkpoint_cb = keras.callbacks.ModelCheckpoint(\"my_cifar10_bn_model.h5\", save_best_only=True)\n",
        "run_index = 1 # increment every time you train the model\n",
        "run_logdir = os.path.join(os.curdir, \"my_cifar10_logs\", \"run_bn_{:03d}\".format(run_index))\n",
        "tensorboard_cb = keras.callbacks.TensorBoard(run_logdir)\n",
        "callbacks = [early_stopping_cb, model_checkpoint_cb, tensorboard_cb]\n",
        "\n",
        "model.fit(X_train, y_train, epochs=100, batch_size=256,\n",
        "          validation_data=(X_val, y_val),\n",
        "          callbacks=callbacks)"
      ],
      "metadata": {
        "colab": {
          "base_uri": "https://localhost:8080/"
        },
        "id": "uGnjUMaXlb6b",
        "outputId": "1d37fed1-8378-453e-8c34-f98892637b49"
      },
      "execution_count": null,
      "outputs": [
        {
          "output_type": "stream",
          "name": "stdout",
          "text": [
            "Epoch 1/100\n",
            "176/176 [==============================] - 17s 37ms/step - loss: 1.8190 - accuracy: 0.3519 - val_loss: 2.0792 - val_accuracy: 0.3306\n",
            "Epoch 2/100\n"
          ]
        },
        {
          "output_type": "stream",
          "name": "stderr",
          "text": [
            "/home/arth/.local/lib/python3.11/site-packages/keras/src/engine/training.py:3079: UserWarning: You are saving your model as an HDF5 file via `model.save()`. This file format is considered legacy. We recommend using instead the native Keras format, e.g. `model.save('my_model.keras')`.\n",
            "  saving_api.save_model(\n"
          ]
        },
        {
          "output_type": "stream",
          "name": "stdout",
          "text": [
            "176/176 [==============================] - 6s 36ms/step - loss: 1.5428 - accuracy: 0.4532 - val_loss: 1.9078 - val_accuracy: 0.3384\n",
            "Epoch 3/100\n",
            "176/176 [==============================] - 9s 54ms/step - loss: 1.4401 - accuracy: 0.4858 - val_loss: 1.7643 - val_accuracy: 0.3966\n",
            "Epoch 4/100\n",
            "176/176 [==============================] - 6s 37ms/step - loss: 1.3732 - accuracy: 0.5111 - val_loss: 1.6369 - val_accuracy: 0.4288\n",
            "Epoch 5/100\n",
            "176/176 [==============================] - 6s 36ms/step - loss: 1.3139 - accuracy: 0.5316 - val_loss: 1.6933 - val_accuracy: 0.4138\n",
            "Epoch 6/100\n",
            "176/176 [==============================] - 6s 36ms/step - loss: 1.2652 - accuracy: 0.5511 - val_loss: 1.9175 - val_accuracy: 0.3496\n",
            "Epoch 7/100\n",
            "176/176 [==============================] - 6s 36ms/step - loss: 1.2202 - accuracy: 0.5680 - val_loss: 1.6726 - val_accuracy: 0.4298\n",
            "Epoch 8/100\n",
            "176/176 [==============================] - 9s 53ms/step - loss: 1.1785 - accuracy: 0.5812 - val_loss: 1.6312 - val_accuracy: 0.4606\n",
            "Epoch 9/100\n",
            "176/176 [==============================] - 7s 37ms/step - loss: 1.1410 - accuracy: 0.5950 - val_loss: 1.5344 - val_accuracy: 0.4854\n",
            "Epoch 10/100\n",
            "176/176 [==============================] - 6s 37ms/step - loss: 1.1095 - accuracy: 0.6072 - val_loss: 1.5228 - val_accuracy: 0.4810\n",
            "Epoch 11/100\n",
            "176/176 [==============================] - 6s 36ms/step - loss: 1.0761 - accuracy: 0.6187 - val_loss: 1.6009 - val_accuracy: 0.4656\n",
            "Epoch 12/100\n",
            "176/176 [==============================] - 6s 36ms/step - loss: 1.0415 - accuracy: 0.6304 - val_loss: 1.8068 - val_accuracy: 0.4112\n",
            "Epoch 13/100\n",
            "176/176 [==============================] - 9s 53ms/step - loss: 1.0105 - accuracy: 0.6401 - val_loss: 1.6465 - val_accuracy: 0.4580\n",
            "Epoch 14/100\n",
            "176/176 [==============================] - 6s 36ms/step - loss: 0.9835 - accuracy: 0.6516 - val_loss: 1.6441 - val_accuracy: 0.4570\n",
            "Epoch 15/100\n",
            "176/176 [==============================] - 6s 36ms/step - loss: 0.9559 - accuracy: 0.6620 - val_loss: 1.6541 - val_accuracy: 0.4590\n",
            "Epoch 16/100\n",
            "176/176 [==============================] - 6s 36ms/step - loss: 0.9233 - accuracy: 0.6718 - val_loss: 1.6808 - val_accuracy: 0.4658\n",
            "Epoch 17/100\n",
            "176/176 [==============================] - 6s 36ms/step - loss: 0.8978 - accuracy: 0.6811 - val_loss: 1.7209 - val_accuracy: 0.4584\n",
            "Epoch 18/100\n",
            "176/176 [==============================] - 9s 52ms/step - loss: 0.8763 - accuracy: 0.6887 - val_loss: 1.6605 - val_accuracy: 0.4826\n",
            "Epoch 19/100\n",
            "176/176 [==============================] - 6s 36ms/step - loss: 0.8499 - accuracy: 0.6974 - val_loss: 1.8127 - val_accuracy: 0.4592\n",
            "Epoch 20/100\n",
            "176/176 [==============================] - 6s 36ms/step - loss: 0.8243 - accuracy: 0.7074 - val_loss: 1.9316 - val_accuracy: 0.4550\n",
            "Epoch 21/100\n",
            "176/176 [==============================] - 6s 36ms/step - loss: 0.8002 - accuracy: 0.7142 - val_loss: 1.8052 - val_accuracy: 0.4682\n",
            "Epoch 22/100\n",
            "176/176 [==============================] - 6s 36ms/step - loss: 0.7781 - accuracy: 0.7228 - val_loss: 1.8132 - val_accuracy: 0.4658\n",
            "Epoch 23/100\n",
            "176/176 [==============================] - 9s 53ms/step - loss: 0.7564 - accuracy: 0.7312 - val_loss: 1.7396 - val_accuracy: 0.4828\n",
            "Epoch 24/100\n",
            "176/176 [==============================] - 6s 36ms/step - loss: 0.7300 - accuracy: 0.7383 - val_loss: 1.9039 - val_accuracy: 0.4582\n",
            "Epoch 25/100\n",
            "176/176 [==============================] - 6s 36ms/step - loss: 0.7126 - accuracy: 0.7462 - val_loss: 1.8826 - val_accuracy: 0.4648\n",
            "Epoch 26/100\n",
            "176/176 [==============================] - 6s 36ms/step - loss: 0.7001 - accuracy: 0.7500 - val_loss: 1.8267 - val_accuracy: 0.4762\n",
            "Epoch 27/100\n",
            "176/176 [==============================] - 6s 36ms/step - loss: 0.6719 - accuracy: 0.7611 - val_loss: 1.9568 - val_accuracy: 0.4608\n",
            "Epoch 28/100\n",
            "176/176 [==============================] - 6s 36ms/step - loss: 0.6548 - accuracy: 0.7646 - val_loss: 1.9188 - val_accuracy: 0.4670\n",
            "Epoch 29/100\n",
            "176/176 [==============================] - 9s 53ms/step - loss: 0.6380 - accuracy: 0.7723 - val_loss: 1.9119 - val_accuracy: 0.4660\n",
            "Epoch 30/100\n",
            "176/176 [==============================] - 6s 36ms/step - loss: 0.6213 - accuracy: 0.7770 - val_loss: 2.0109 - val_accuracy: 0.4646\n"
          ]
        },
        {
          "output_type": "execute_result",
          "data": {
            "text/plain": [
              "<keras.src.callbacks.History at 0x7f843423e590>"
            ]
          },
          "metadata": {},
          "execution_count": 24
        }
      ]
    },
    {
      "cell_type": "code",
      "source": [
        "model = keras.models.load_model(\"my_cifar10_bn_model.h5\")\n",
        "model.evaluate(X_val, y_val)"
      ],
      "metadata": {
        "colab": {
          "base_uri": "https://localhost:8080/"
        },
        "id": "72iUJOh5oFRX",
        "outputId": "857e1b02-c785-4142-8b04-eaf0890a60d5"
      },
      "execution_count": null,
      "outputs": [
        {
          "output_type": "stream",
          "name": "stdout",
          "text": [
            "157/157 [==============================] - 1s 6ms/step - loss: 1.5228 - accuracy: 0.4810\n"
          ]
        },
        {
          "output_type": "execute_result",
          "data": {
            "text/plain": [
              "[1.522750735282898, 0.48100000619888306]"
            ]
          },
          "metadata": {},
          "execution_count": 26
        }
      ]
    },
    {
      "cell_type": "code",
      "source": [
        "import os\n",
        "\n",
        "keras.backend.clear_session()\n",
        "tf.random.set_seed(42)\n",
        "np.random.seed(42)\n",
        "\n",
        "model = keras.models.Sequential()\n",
        "model.add(keras.layers.Flatten(input_shape=[32, 32, 3]))\n",
        "for _ in range(20):\n",
        "    model.add(keras.layers.Dense(100,\n",
        "                                 kernel_initializer=\"lecun_normal\",\n",
        "                                 activation=\"selu\"))\n",
        "model.add(keras.layers.Dense(10, activation=\"softmax\"))\n",
        "\n",
        "optimizer = keras.optimizers.Nadam(learning_rate=7e-4)\n",
        "model.compile(loss=\"sparse_categorical_crossentropy\",\n",
        "              optimizer=optimizer,\n",
        "              metrics=[\"accuracy\"])\n",
        "\n",
        "early_stopping_cb = keras.callbacks.EarlyStopping(patience=20)\n",
        "model_checkpoint_cb = keras.callbacks.ModelCheckpoint(\"my_cifar10_selu_model.h5\", save_best_only=True)\n",
        "run_index = 1 # increment every time you train the model\n",
        "run_logdir = os.path.join(os.curdir, \"my_cifar10_logs\", \"run_selu_{:03d}\".format(run_index))\n",
        "tensorboard_cb = keras.callbacks.TensorBoard(run_logdir)\n",
        "callbacks = [early_stopping_cb, model_checkpoint_cb, tensorboard_cb]\n",
        "\n",
        "X_means = X_train.mean(axis=0)\n",
        "X_stds = X_train.std(axis=0)\n",
        "X_train_scaled = (X_train - X_means) / X_stds\n",
        "X_valid_scaled = (X_val - X_means) / X_stds\n",
        "X_test_scaled = (X_test - X_means) / X_stds\n",
        "\n",
        "model.fit(X_train_scaled, y_train, epochs=100,\n",
        "          validation_data=(X_valid_scaled, y_val), batch_size=128,\n",
        "          callbacks=callbacks)\n",
        "\n",
        "model = keras.models.load_model(\"my_cifar10_selu_model.h5\")\n",
        "model.evaluate(X_valid_scaled, y_val)"
      ],
      "metadata": {
        "colab": {
          "base_uri": "https://localhost:8080/"
        },
        "id": "5FB9RXJIpHFl",
        "outputId": "a76fb7a1-a6d3-4c22-8e3f-ad03f7c91179"
      },
      "execution_count": null,
      "outputs": [
        {
          "output_type": "stream",
          "name": "stdout",
          "text": [
            "Epoch 1/100\n"
          ]
        },
        {
          "output_type": "stream",
          "name": "stderr",
          "text": [
            "2025-01-18 14:45:07.749008: I tensorflow/compiler/xla/service/service.cc:168] XLA service 0x7f1edb0475b0 initialized for platform CUDA (this does not guarantee that XLA will be used). Devices:\n",
            "2025-01-18 14:45:07.749055: I tensorflow/compiler/xla/service/service.cc:176]   StreamExecutor device (0): NVIDIA GeForce RTX 4060 Laptop GPU, Compute Capability 8.9\n",
            "2025-01-18 14:45:07.766643: I tensorflow/compiler/mlir/tensorflow/utils/dump_mlir_util.cc:269] disabling MLIR crash reproducer, set env var `MLIR_CRASH_REPRODUCER_DIRECTORY` to enable.\n",
            "2025-01-18 14:45:07.797197: I tensorflow/compiler/xla/stream_executor/cuda/cuda_dnn.cc:442] Loaded cuDNN version 8700\n",
            "2025-01-18 14:45:07.982200: I ./tensorflow/compiler/jit/device_compiler.h:186] Compiled cluster using XLA!  This line is logged at most once for the lifetime of the process.\n"
          ]
        },
        {
          "output_type": "stream",
          "name": "stdout",
          "text": [
            "352/352 [==============================] - 15s 19ms/step - loss: 1.8501 - accuracy: 0.3403 - val_loss: 1.7067 - val_accuracy: 0.3890\n",
            "Epoch 2/100\n"
          ]
        },
        {
          "output_type": "stream",
          "name": "stderr",
          "text": [
            "/home/arth/.local/lib/python3.11/site-packages/keras/src/engine/training.py:3079: UserWarning: You are saving your model as an HDF5 file via `model.save()`. This file format is considered legacy. We recommend using instead the native Keras format, e.g. `model.save('my_model.keras')`.\n",
            "  saving_api.save_model(\n"
          ]
        },
        {
          "output_type": "stream",
          "name": "stdout",
          "text": [
            "352/352 [==============================] - 9s 27ms/step - loss: 1.6456 - accuracy: 0.4190 - val_loss: 1.6135 - val_accuracy: 0.4238\n",
            "Epoch 3/100\n",
            "352/352 [==============================] - 6s 18ms/step - loss: 1.5359 - accuracy: 0.4549 - val_loss: 1.5694 - val_accuracy: 0.4496\n",
            "Epoch 4/100\n",
            "352/352 [==============================] - 6s 18ms/step - loss: 1.4637 - accuracy: 0.4835 - val_loss: 1.5171 - val_accuracy: 0.4594\n",
            "Epoch 5/100\n",
            "352/352 [==============================] - 7s 19ms/step - loss: 1.3958 - accuracy: 0.5103 - val_loss: 1.4723 - val_accuracy: 0.4824\n",
            "Epoch 6/100\n",
            "352/352 [==============================] - 7s 19ms/step - loss: 1.3439 - accuracy: 0.5270 - val_loss: 1.4614 - val_accuracy: 0.4782\n",
            "Epoch 7/100\n",
            "352/352 [==============================] - 9s 27ms/step - loss: 1.2984 - accuracy: 0.5414 - val_loss: 1.4560 - val_accuracy: 0.4906\n",
            "Epoch 8/100\n",
            "352/352 [==============================] - 6s 18ms/step - loss: 1.2521 - accuracy: 0.5612 - val_loss: 1.4514 - val_accuracy: 0.4932\n",
            "Epoch 9/100\n",
            "352/352 [==============================] - 6s 18ms/step - loss: 1.2139 - accuracy: 0.5741 - val_loss: 1.4424 - val_accuracy: 0.5002\n",
            "Epoch 10/100\n",
            "352/352 [==============================] - 6s 18ms/step - loss: 1.1819 - accuracy: 0.5880 - val_loss: 1.4761 - val_accuracy: 0.5090\n",
            "Epoch 11/100\n",
            "352/352 [==============================] - 6s 18ms/step - loss: 1.1415 - accuracy: 0.6024 - val_loss: 1.4318 - val_accuracy: 0.5118\n",
            "Epoch 12/100\n",
            "352/352 [==============================] - 9s 25ms/step - loss: 1.1085 - accuracy: 0.6144 - val_loss: 1.4844 - val_accuracy: 0.4962\n",
            "Epoch 13/100\n",
            "352/352 [==============================] - 6s 17ms/step - loss: 1.0734 - accuracy: 0.6255 - val_loss: 1.4959 - val_accuracy: 0.5052\n",
            "Epoch 14/100\n",
            "352/352 [==============================] - 6s 17ms/step - loss: 1.0420 - accuracy: 0.6383 - val_loss: 1.4645 - val_accuracy: 0.5110\n",
            "Epoch 15/100\n",
            "352/352 [==============================] - 6s 17ms/step - loss: 1.0109 - accuracy: 0.6498 - val_loss: 1.4768 - val_accuracy: 0.5088\n",
            "Epoch 16/100\n",
            "352/352 [==============================] - 6s 17ms/step - loss: 0.9815 - accuracy: 0.6599 - val_loss: 1.5038 - val_accuracy: 0.5158\n",
            "Epoch 17/100\n",
            "352/352 [==============================] - 9s 26ms/step - loss: 0.9531 - accuracy: 0.6693 - val_loss: 1.5221 - val_accuracy: 0.5170\n",
            "Epoch 18/100\n",
            "352/352 [==============================] - 6s 17ms/step - loss: 0.9266 - accuracy: 0.6818 - val_loss: 1.5473 - val_accuracy: 0.5130\n",
            "Epoch 19/100\n",
            "352/352 [==============================] - 6s 17ms/step - loss: 0.9059 - accuracy: 0.6883 - val_loss: 1.5998 - val_accuracy: 0.5084\n",
            "Epoch 20/100\n",
            "352/352 [==============================] - 6s 17ms/step - loss: 0.8753 - accuracy: 0.6998 - val_loss: 1.5944 - val_accuracy: 0.5106\n",
            "Epoch 21/100\n",
            "352/352 [==============================] - 6s 17ms/step - loss: 0.8461 - accuracy: 0.7120 - val_loss: 1.6310 - val_accuracy: 0.4984\n",
            "Epoch 22/100\n",
            "352/352 [==============================] - 9s 26ms/step - loss: 0.8289 - accuracy: 0.7162 - val_loss: 1.6880 - val_accuracy: 0.5028\n",
            "Epoch 23/100\n",
            "352/352 [==============================] - 6s 18ms/step - loss: 0.8044 - accuracy: 0.7254 - val_loss: 1.6442 - val_accuracy: 0.5076\n",
            "Epoch 24/100\n",
            "352/352 [==============================] - 6s 17ms/step - loss: 0.7827 - accuracy: 0.7326 - val_loss: 1.6564 - val_accuracy: 0.5104\n",
            "Epoch 25/100\n",
            "352/352 [==============================] - 6s 18ms/step - loss: 0.7681 - accuracy: 0.7362 - val_loss: 1.6525 - val_accuracy: 0.5118\n",
            "Epoch 26/100\n",
            "352/352 [==============================] - 6s 18ms/step - loss: 0.7422 - accuracy: 0.7470 - val_loss: 1.7692 - val_accuracy: 0.5034\n",
            "Epoch 27/100\n",
            "352/352 [==============================] - 6s 18ms/step - loss: 0.7294 - accuracy: 0.7545 - val_loss: 1.6593 - val_accuracy: 0.5084\n",
            "Epoch 28/100\n",
            "352/352 [==============================] - 9s 26ms/step - loss: 0.7036 - accuracy: 0.7624 - val_loss: 1.7305 - val_accuracy: 0.5184\n",
            "Epoch 29/100\n",
            "352/352 [==============================] - 6s 18ms/step - loss: 0.6901 - accuracy: 0.7686 - val_loss: 1.7583 - val_accuracy: 0.4950\n",
            "Epoch 30/100\n",
            "352/352 [==============================] - 6s 18ms/step - loss: 0.6704 - accuracy: 0.7747 - val_loss: 1.7977 - val_accuracy: 0.4920\n",
            "Epoch 31/100\n",
            "352/352 [==============================] - 6s 18ms/step - loss: 0.6540 - accuracy: 0.7790 - val_loss: 1.7972 - val_accuracy: 0.4980\n",
            "157/157 [==============================] - 1s 5ms/step - loss: 1.4318 - accuracy: 0.5118\n"
          ]
        },
        {
          "output_type": "execute_result",
          "data": {
            "text/plain": [
              "[1.4317923784255981, 0.5117999911308289]"
            ]
          },
          "metadata": {},
          "execution_count": 9
        }
      ]
    },
    {
      "cell_type": "code",
      "source": [
        "model = keras.models.load_model(\"my_cifar10_selu_model.h5\")\n",
        "model.evaluate(X_valid_scaled, y_val)"
      ],
      "metadata": {
        "colab": {
          "base_uri": "https://localhost:8080/"
        },
        "id": "EoHCBicN2ZjC",
        "outputId": "974a005a-1cc5-44b6-fd61-d9a1754c68f5"
      },
      "execution_count": null,
      "outputs": [
        {
          "output_type": "stream",
          "name": "stdout",
          "text": [
            "157/157 [==============================] - 1s 7ms/step - loss: 1.4318 - accuracy: 0.5118\n"
          ]
        },
        {
          "output_type": "execute_result",
          "data": {
            "text/plain": [
              "[1.4317923784255981, 0.5117999911308289]"
            ]
          },
          "metadata": {},
          "execution_count": 11
        }
      ]
    },
    {
      "cell_type": "code",
      "source": [
        "keras.backend.clear_session()\n",
        "tf.random.set_seed(42)\n",
        "np.random.seed(42)\n",
        "\n",
        "model = keras.models.Sequential()\n",
        "model.add(keras.layers.Flatten(input_shape=[32, 32, 3]))\n",
        "for _ in range(20):\n",
        "    model.add(keras.layers.Dense(100,\n",
        "                                 kernel_initializer=\"lecun_normal\",\n",
        "                                 activation=\"selu\"))\n",
        "\n",
        "model.add(keras.layers.AlphaDropout(rate=0.1))\n",
        "model.add(keras.layers.Dense(10, activation=\"softmax\"))\n",
        "\n",
        "optimizer = keras.optimizers.Nadam(learning_rate=5e-4)\n",
        "model.compile(loss=\"sparse_categorical_crossentropy\",\n",
        "              optimizer=optimizer,\n",
        "              metrics=[\"accuracy\"])\n",
        "\n",
        "early_stopping_cb = keras.callbacks.EarlyStopping(patience=20)\n",
        "model_checkpoint_cb = keras.callbacks.ModelCheckpoint(\"my_cifar10_alpha_dropout_model.h5\", save_best_only=True)\n",
        "run_index = 1 # increment every time you train the model\n",
        "run_logdir = os.path.join(os.curdir, \"my_cifar10_logs\", \"run_alpha_dropout_{:03d}\".format(run_index))\n",
        "tensorboard_cb = keras.callbacks.TensorBoard(run_logdir)\n",
        "callbacks = [early_stopping_cb, model_checkpoint_cb, tensorboard_cb]\n",
        "\n",
        "X_means = X_train.mean(axis=0)\n",
        "X_stds = X_train.std(axis=0)\n",
        "X_train_scaled = (X_train - X_means) / X_stds\n",
        "X_valid_scaled = (X_val - X_means) / X_stds\n",
        "X_test_scaled = (X_test - X_means) / X_stds\n",
        "\n",
        "model.fit(X_train_scaled, y_train, epochs=100,\n",
        "          validation_data=(X_valid_scaled, y_val), batch_size=256,\n",
        "          callbacks=callbacks)\n",
        "\n",
        "model = keras.models.load_model(\"my_cifar10_alpha_dropout_model.h5\")\n",
        "model.evaluate(X_valid_scaled, y_val)"
      ],
      "metadata": {
        "colab": {
          "base_uri": "https://localhost:8080/"
        },
        "id": "zff2bKqn47nh",
        "outputId": "465d8363-2a4b-4327-d779-bb3f17f5cbbd"
      },
      "execution_count": null,
      "outputs": [
        {
          "output_type": "stream",
          "name": "stdout",
          "text": [
            "Epoch 1/100\n"
          ]
        },
        {
          "output_type": "stream",
          "name": "stderr",
          "text": [
            "2025-01-18 15:55:11.056077: I tensorflow/compiler/xla/service/service.cc:168] XLA service 0x1fb51ed0 initialized for platform CUDA (this does not guarantee that XLA will be used). Devices:\n",
            "2025-01-18 15:55:11.056244: I tensorflow/compiler/xla/service/service.cc:176]   StreamExecutor device (0): NVIDIA GeForce RTX 4060 Laptop GPU, Compute Capability 8.9\n",
            "2025-01-18 15:55:11.076503: I tensorflow/compiler/mlir/tensorflow/utils/dump_mlir_util.cc:269] disabling MLIR crash reproducer, set env var `MLIR_CRASH_REPRODUCER_DIRECTORY` to enable.\n",
            "2025-01-18 15:55:11.112760: I tensorflow/compiler/xla/stream_executor/cuda/cuda_dnn.cc:442] Loaded cuDNN version 8700\n",
            "2025-01-18 15:55:11.240526: I ./tensorflow/compiler/jit/device_compiler.h:186] Compiled cluster using XLA!  This line is logged at most once for the lifetime of the process.\n"
          ]
        },
        {
          "output_type": "stream",
          "name": "stdout",
          "text": [
            "176/176 [==============================] - 16s 40ms/step - loss: 1.9404 - accuracy: 0.3192 - val_loss: 1.6585 - val_accuracy: 0.4070\n",
            "Epoch 2/100\n"
          ]
        },
        {
          "output_type": "stream",
          "name": "stderr",
          "text": [
            "/home/arth/.local/lib/python3.11/site-packages/keras/src/engine/training.py:3079: UserWarning: You are saving your model as an HDF5 file via `model.save()`. This file format is considered legacy. We recommend using instead the native Keras format, e.g. `model.save('my_model.keras')`.\n",
            "  saving_api.save_model(\n"
          ]
        },
        {
          "output_type": "stream",
          "name": "stdout",
          "text": [
            "176/176 [==============================] - 4s 21ms/step - loss: 1.6289 - accuracy: 0.4199 - val_loss: 1.5836 - val_accuracy: 0.4444\n",
            "Epoch 3/100\n",
            "176/176 [==============================] - 4s 21ms/step - loss: 1.5090 - accuracy: 0.4634 - val_loss: 1.5299 - val_accuracy: 0.4600\n",
            "Epoch 4/100\n",
            "176/176 [==============================] - 4s 20ms/step - loss: 1.4290 - accuracy: 0.4934 - val_loss: 1.5071 - val_accuracy: 0.4768\n",
            "Epoch 5/100\n",
            "176/176 [==============================] - 3s 20ms/step - loss: 1.3661 - accuracy: 0.5168 - val_loss: 1.4664 - val_accuracy: 0.4904\n",
            "Epoch 6/100\n",
            "176/176 [==============================] - 4s 21ms/step - loss: 1.3056 - accuracy: 0.5406 - val_loss: 1.4569 - val_accuracy: 0.4952\n",
            "Epoch 7/100\n",
            "176/176 [==============================] - 3s 19ms/step - loss: 1.2622 - accuracy: 0.5534 - val_loss: 1.4882 - val_accuracy: 0.4974\n",
            "Epoch 8/100\n",
            "176/176 [==============================] - 3s 18ms/step - loss: 1.2121 - accuracy: 0.5696 - val_loss: 1.4761 - val_accuracy: 0.5074\n",
            "Epoch 9/100\n",
            "176/176 [==============================] - 3s 19ms/step - loss: 1.1671 - accuracy: 0.5878 - val_loss: 1.5484 - val_accuracy: 0.4960\n",
            "Epoch 10/100\n",
            "176/176 [==============================] - 3s 17ms/step - loss: 1.1304 - accuracy: 0.6011 - val_loss: 1.5264 - val_accuracy: 0.5060\n",
            "Epoch 11/100\n",
            "176/176 [==============================] - 6s 35ms/step - loss: 1.0943 - accuracy: 0.6140 - val_loss: 1.5322 - val_accuracy: 0.5142\n",
            "Epoch 12/100\n",
            "176/176 [==============================] - 3s 18ms/step - loss: 1.0489 - accuracy: 0.6293 - val_loss: 1.5289 - val_accuracy: 0.5132\n",
            "Epoch 13/100\n",
            "176/176 [==============================] - 3s 18ms/step - loss: 1.0166 - accuracy: 0.6391 - val_loss: 1.5912 - val_accuracy: 0.5162\n",
            "Epoch 14/100\n",
            "176/176 [==============================] - 3s 19ms/step - loss: 0.9808 - accuracy: 0.6533 - val_loss: 1.5584 - val_accuracy: 0.5148\n",
            "Epoch 15/100\n",
            "176/176 [==============================] - 3s 17ms/step - loss: 0.9458 - accuracy: 0.6644 - val_loss: 1.6161 - val_accuracy: 0.5148\n",
            "Epoch 16/100\n",
            "176/176 [==============================] - 3s 17ms/step - loss: 0.9189 - accuracy: 0.6762 - val_loss: 1.6941 - val_accuracy: 0.5120\n",
            "Epoch 17/100\n",
            "176/176 [==============================] - 3s 18ms/step - loss: 0.8873 - accuracy: 0.6874 - val_loss: 1.6536 - val_accuracy: 0.5274\n",
            "Epoch 18/100\n",
            "176/176 [==============================] - 3s 19ms/step - loss: 0.8570 - accuracy: 0.6964 - val_loss: 1.7695 - val_accuracy: 0.5072\n",
            "Epoch 19/100\n",
            "176/176 [==============================] - 3s 19ms/step - loss: 0.8302 - accuracy: 0.7066 - val_loss: 1.7993 - val_accuracy: 0.5228\n",
            "Epoch 20/100\n",
            "176/176 [==============================] - 3s 19ms/step - loss: 0.8002 - accuracy: 0.7170 - val_loss: 1.8419 - val_accuracy: 0.5090\n",
            "Epoch 21/100\n",
            "176/176 [==============================] - 6s 35ms/step - loss: 0.7714 - accuracy: 0.7279 - val_loss: 1.8717 - val_accuracy: 0.5046\n",
            "Epoch 22/100\n",
            "176/176 [==============================] - 3s 19ms/step - loss: 0.7441 - accuracy: 0.7380 - val_loss: 1.8544 - val_accuracy: 0.5098\n",
            "Epoch 23/100\n",
            "176/176 [==============================] - 3s 19ms/step - loss: 0.7275 - accuracy: 0.7439 - val_loss: 1.9537 - val_accuracy: 0.5110\n",
            "Epoch 24/100\n",
            "176/176 [==============================] - 3s 18ms/step - loss: 0.7018 - accuracy: 0.7532 - val_loss: 1.9854 - val_accuracy: 0.5070\n",
            "Epoch 25/100\n",
            "176/176 [==============================] - 3s 18ms/step - loss: 0.6741 - accuracy: 0.7612 - val_loss: 2.0514 - val_accuracy: 0.5054\n",
            "Epoch 26/100\n",
            "176/176 [==============================] - 3s 19ms/step - loss: 0.6523 - accuracy: 0.7701 - val_loss: 2.0399 - val_accuracy: 0.4936\n",
            "157/157 [==============================] - 1s 5ms/step - loss: 1.4569 - accuracy: 0.4952\n"
          ]
        },
        {
          "output_type": "execute_result",
          "data": {
            "text/plain": [
              "[1.4569337368011475, 0.4952000081539154]"
            ]
          },
          "metadata": {},
          "execution_count": 8
        }
      ]
    },
    {
      "cell_type": "code",
      "source": [
        "class MCAlphaDropout(keras.layers.AlphaDropout):\n",
        "    def call(self, inputs):\n",
        "        return super().call(inputs, training=True)"
      ],
      "metadata": {
        "id": "kr-UPPkd7XEb"
      },
      "execution_count": null,
      "outputs": []
    },
    {
      "cell_type": "code",
      "source": [
        "mc_model = keras.models.Sequential([\n",
        "    MCAlphaDropout(layer.rate) if isinstance(layer, keras.layers.AlphaDropout) else layer\n",
        "    for layer in model.layers\n",
        "])"
      ],
      "metadata": {
        "id": "vmOOXSkm9SSM"
      },
      "execution_count": null,
      "outputs": []
    },
    {
      "cell_type": "code",
      "source": [
        "def mc_dropout_predict_probas(mc_model, X, n_samples=10):\n",
        "    Y_probas = [mc_model.predict(X) for sample in range(n_samples)]\n",
        "    return np.mean(Y_probas, axis=0)\n",
        "\n",
        "def mc_dropout_predict_classes(mc_model, X, n_samples=10):\n",
        "    Y_probas = mc_dropout_predict_probas(mc_model, X, n_samples)\n",
        "    return np.argmax(Y_probas, axis=1)"
      ],
      "metadata": {
        "id": "IAJn1BSP9UeV"
      },
      "execution_count": null,
      "outputs": []
    },
    {
      "cell_type": "code",
      "source": [
        "keras.backend.clear_session()\n",
        "tf.random.set_seed(42)\n",
        "np.random.seed(42)\n",
        "\n",
        "y_pred = mc_dropout_predict_classes(mc_model, X_valid_scaled)\n",
        "accuracy = np.mean(y_pred == y_val[:, 0])\n",
        "accuracy"
      ],
      "metadata": {
        "colab": {
          "base_uri": "https://localhost:8080/"
        },
        "id": "DXjrC8UC9gJz",
        "outputId": "82a5e4e1-abe9-4f1d-b10e-85cca714e546"
      },
      "execution_count": null,
      "outputs": [
        {
          "output_type": "stream",
          "name": "stdout",
          "text": [
            "157/157 [==============================] - 1s 3ms/step\n",
            "157/157 [==============================] - 0s 2ms/step\n",
            "157/157 [==============================] - 0s 3ms/step\n",
            "157/157 [==============================] - 0s 2ms/step\n",
            "157/157 [==============================] - 0s 3ms/step\n",
            "157/157 [==============================] - 0s 2ms/step\n",
            "157/157 [==============================] - 0s 2ms/step\n",
            "157/157 [==============================] - 0s 2ms/step\n",
            "157/157 [==============================] - 0s 2ms/step\n",
            "157/157 [==============================] - 0s 2ms/step\n"
          ]
        },
        {
          "output_type": "execute_result",
          "data": {
            "text/plain": [
              "0.4954"
            ]
          },
          "metadata": {},
          "execution_count": 12
        }
      ]
    },
    {
      "cell_type": "code",
      "source": [
        "keras.backend.clear_session()\n",
        "tf.random.set_seed(42)\n",
        "np.random.seed(42)\n",
        "\n",
        "model = keras.models.Sequential()\n",
        "model.add(keras.layers.Flatten(input_shape=[32, 32, 3]))\n",
        "for _ in range(20):\n",
        "    model.add(keras.layers.Dense(100,\n",
        "                                 kernel_initializer=\"lecun_normal\",\n",
        "                                 activation=\"selu\"))\n",
        "\n",
        "model.add(keras.layers.AlphaDropout(rate=0.1))\n",
        "model.add(keras.layers.Dense(10, activation=\"softmax\"))\n",
        "\n",
        "optimizer = keras.optimizers.SGD(learning_rate=1e-3)\n",
        "model.compile(loss=\"sparse_categorical_crossentropy\",\n",
        "              optimizer=optimizer,\n",
        "              metrics=[\"accuracy\"])"
      ],
      "metadata": {
        "id": "_oBVHIif9iWe"
      },
      "execution_count": null,
      "outputs": []
    },
    {
      "cell_type": "code",
      "source": [
        "K = keras.backend\n",
        "\n",
        "class ExponentialLearningRate(keras.callbacks.Callback):\n",
        "    def __init__(self, factor):\n",
        "        self.factor = factor\n",
        "        self.rates = []\n",
        "        self.losses = []\n",
        "    def on_batch_end(self, batch, logs):\n",
        "        self.rates.append(K.get_value(self.model.optimizer.learning_rate))\n",
        "        self.losses.append(logs[\"loss\"])\n",
        "        K.set_value(self.model.optimizer.learning_rate, self.model.optimizer.learning_rate * self.factor)\n",
        "\n",
        "def find_learning_rate(model, X, y, epochs=1, batch_size=32, min_rate=10**-5, max_rate=10):\n",
        "    init_weights = model.get_weights()\n",
        "    iterations = math.ceil(len(X) / batch_size) * epochs\n",
        "    factor = np.exp(np.log(max_rate / min_rate) / iterations)\n",
        "    init_lr = K.get_value(model.optimizer.learning_rate)\n",
        "    K.set_value(model.optimizer.learning_rate, min_rate)\n",
        "    exp_lr = ExponentialLearningRate(factor)\n",
        "    history = model.fit(X, y, epochs=epochs, batch_size=batch_size,\n",
        "                        callbacks=[exp_lr])\n",
        "    K.set_value(model.optimizer.learning_rate, init_lr)\n",
        "    model.set_weights(init_weights)\n",
        "    return exp_lr.rates, exp_lr.losses\n",
        "\n",
        "def plot_lr_vs_loss(rates, losses):\n",
        "    plt.plot(rates, losses)\n",
        "    plt.gca().set_xscale('log')\n",
        "    plt.hlines(min(losses), min(rates), max(rates))\n",
        "    plt.axis([min(rates), max(rates), min(losses), (losses[0] + min(losses)) / 2])\n",
        "    plt.xlabel(\"Learning rate\")\n",
        "    plt.ylabel(\"Loss\")"
      ],
      "metadata": {
        "id": "uUqzkSGfFT18"
      },
      "execution_count": null,
      "outputs": []
    },
    {
      "cell_type": "code",
      "source": [
        "import math\n",
        "\n",
        "batch_size = 256\n",
        "rates, losses = find_learning_rate(model, X_train_scaled, y_train, epochs=1, batch_size=batch_size)\n",
        "plot_lr_vs_loss(rates, losses)\n",
        "plt.axis([min(rates), max(rates), min(losses), (losses[0] + min(losses)) / 1.4])"
      ],
      "metadata": {
        "colab": {
          "base_uri": "https://localhost:8080/",
          "height": 541
        },
        "id": "5sVjZakvErlC",
        "outputId": "7082d1d4-6236-48c9-d5be-7184a8cd1728"
      },
      "execution_count": null,
      "outputs": [
        {
          "output_type": "stream",
          "name": "stdout",
          "text": [
            "176/176 [==============================] - 7s 29ms/step - loss: nan - accuracy: 0.1353\n"
          ]
        },
        {
          "output_type": "execute_result",
          "data": {
            "text/plain": [
              "(9.999999747378752e-06,\n",
              " 9.245111465454102,\n",
              " 2.688497543334961,\n",
              " 4.066368852342879)"
            ]
          },
          "metadata": {},
          "execution_count": 15
        },
        {
          "output_type": "display_data",
          "data": {
            "text/plain": [
              "<Figure size 640x480 with 1 Axes>"
            ],
            "image/png": "[encoded data removed]"
          },
          "metadata": {}
        }
      ]
    },
    {
      "cell_type": "code",
      "source": [
        "keras.backend.clear_session()\n",
        "tf.random.set_seed(42)\n",
        "np.random.seed(42)\n",
        "\n",
        "model = keras.models.Sequential()\n",
        "model.add(keras.layers.Flatten(input_shape=[32, 32, 3]))\n",
        "for _ in range(20):\n",
        "    model.add(keras.layers.Dense(100,\n",
        "                                 kernel_initializer=\"lecun_normal\",\n",
        "                                 activation=\"selu\"))\n",
        "\n",
        "model.add(keras.layers.AlphaDropout(rate=0.1))\n",
        "model.add(keras.layers.Dense(10, activation=\"softmax\"))\n",
        "\n",
        "optimizer = keras.optimizers.SGD(learning_rate=1e-2)\n",
        "model.compile(loss=\"sparse_categorical_crossentropy\",\n",
        "              optimizer=optimizer,\n",
        "              metrics=[\"accuracy\"])"
      ],
      "metadata": {
        "id": "pShMNbMOEvQ0"
      },
      "execution_count": null,
      "outputs": []
    },
    {
      "cell_type": "code",
      "source": [
        "class OneCycleScheduler(keras.callbacks.Callback):\n",
        "    def __init__(self, iterations, max_rate, start_rate=None,\n",
        "                 last_iterations=None, last_rate=None):\n",
        "        self.iterations = iterations\n",
        "        self.max_rate = max_rate\n",
        "        self.start_rate = start_rate or max_rate / 10\n",
        "        self.last_iterations = last_iterations or iterations // 10 + 1\n",
        "        self.half_iteration = (iterations - self.last_iterations) // 2\n",
        "        self.last_rate = last_rate or self.start_rate / 1000\n",
        "        self.iteration = 0\n",
        "    def _interpolate(self, iter1, iter2, rate1, rate2):\n",
        "        return ((rate2 - rate1) * (self.iteration - iter1)\n",
        "                / (iter2 - iter1) + rate1)\n",
        "    def on_batch_begin(self, batch, logs):\n",
        "        if self.iteration < self.half_iteration:\n",
        "            rate = self._interpolate(0, self.half_iteration, self.start_rate, self.max_rate)\n",
        "        elif self.iteration < 2 * self.half_iteration:\n",
        "            rate = self._interpolate(self.half_iteration, 2 * self.half_iteration,\n",
        "                                     self.max_rate, self.start_rate)\n",
        "        else:\n",
        "            rate = self._interpolate(2 * self.half_iteration, self.iterations,\n",
        "                                     self.start_rate, self.last_rate)\n",
        "        self.iteration += 1\n",
        "        K.set_value(self.model.optimizer.learning_rate, rate)"
      ],
      "metadata": {
        "id": "cD6W_IW6Gu8u"
      },
      "execution_count": null,
      "outputs": []
    },
    {
      "cell_type": "code",
      "source": [
        "n_epochs = 15\n",
        "onecycle = OneCycleScheduler(math.ceil(len(X_train_scaled) / batch_size) * n_epochs, max_rate=0.05)\n",
        "history = model.fit(X_train_scaled, y_train, epochs=n_epochs, batch_size=batch_size,\n",
        "                    validation_data=(X_valid_scaled, y_val),\n",
        "                    callbacks=[onecycle])"
      ],
      "metadata": {
        "colab": {
          "base_uri": "https://localhost:8080/"
        },
        "id": "hWGonVxeGduX",
        "outputId": "3eeffd90-94e1-471e-bd1f-6f4e826f9291"
      },
      "execution_count": null,
      "outputs": [
        {
          "output_type": "stream",
          "name": "stdout",
          "text": [
            "Epoch 1/15\n",
            "176/176 [==============================] - 4s 14ms/step - loss: 2.1477 - accuracy: 0.2641 - val_loss: 1.7996 - val_accuracy: 0.3630\n",
            "Epoch 2/15\n",
            "176/176 [==============================] - 2s 12ms/step - loss: 1.8517 - accuracy: 0.3544 - val_loss: 1.7234 - val_accuracy: 0.3940\n",
            "Epoch 3/15\n",
            "176/176 [==============================] - 2s 12ms/step - loss: 1.7135 - accuracy: 0.3931 - val_loss: 1.6776 - val_accuracy: 0.4148\n",
            "Epoch 4/15\n",
            "176/176 [==============================] - 2s 12ms/step - loss: 1.6186 - accuracy: 0.4250 - val_loss: 1.6426 - val_accuracy: 0.4246\n",
            "Epoch 5/15\n",
            "176/176 [==============================] - 2s 12ms/step - loss: 1.5517 - accuracy: 0.4479 - val_loss: 1.5981 - val_accuracy: 0.4382\n",
            "Epoch 6/15\n",
            "176/176 [==============================] - 2s 12ms/step - loss: 1.5034 - accuracy: 0.4692 - val_loss: 1.5755 - val_accuracy: 0.4444\n",
            "Epoch 7/15\n",
            "176/176 [==============================] - 2s 12ms/step - loss: 1.4641 - accuracy: 0.4818 - val_loss: 1.5797 - val_accuracy: 0.4528\n",
            "Epoch 8/15\n",
            "176/176 [==============================] - 2s 12ms/step - loss: 1.3952 - accuracy: 0.5058 - val_loss: 1.5514 - val_accuracy: 0.4706\n",
            "Epoch 9/15\n",
            "176/176 [==============================] - 2s 12ms/step - loss: 1.3175 - accuracy: 0.5320 - val_loss: 1.5405 - val_accuracy: 0.4800\n",
            "Epoch 10/15\n",
            "176/176 [==============================] - 2s 12ms/step - loss: 1.2591 - accuracy: 0.5508 - val_loss: 1.5218 - val_accuracy: 0.4826\n",
            "Epoch 11/15\n",
            "176/176 [==============================] - 2s 12ms/step - loss: 1.1943 - accuracy: 0.5778 - val_loss: 1.5406 - val_accuracy: 0.4954\n",
            "Epoch 12/15\n",
            "176/176 [==============================] - 2s 12ms/step - loss: 1.1349 - accuracy: 0.5943 - val_loss: 1.5165 - val_accuracy: 0.4950\n",
            "Epoch 13/15\n",
            "176/176 [==============================] - 5s 28ms/step - loss: 1.0777 - accuracy: 0.6150 - val_loss: 1.5670 - val_accuracy: 0.5068\n",
            "Epoch 14/15\n",
            "176/176 [==============================] - 2s 12ms/step - loss: 1.0282 - accuracy: 0.6360 - val_loss: 1.5620 - val_accuracy: 0.5056\n",
            "Epoch 15/15\n",
            "176/176 [==============================] - 2s 12ms/step - loss: 0.9966 - accuracy: 0.6468 - val_loss: 1.5854 - val_accuracy: 0.5058\n"
          ]
        }
      ]
    },
    {
      "cell_type": "code",
      "source": [
        "import tensorflow as tf\n",
        "from tensorflow import keras\n",
        "from tensorflow.keras import layers\n",
        "\n",
        "class LayerNormalization(layers.Layer):\n",
        "    def __init__(self, eps=0.001, **kwargs):\n",
        "        super().__init__(**kwargs)\n",
        "        self.eps = eps\n",
        "    def build(self, input_shape):\n",
        "        self.alpha = self.add_weight(\n",
        "            shape=input_shape[-1:],\n",
        "            name=\"alpha\",\n",
        "            initializer=\"ones\",\n",
        "            dtype=\"float32\",\n",
        "        )\n",
        "        self.beta = self.add_weight(\n",
        "            shape=input_shape[-1:],\n",
        "            name=\"beta\",\n",
        "            initializer=\"zeros\",\n",
        "            dtype=\"float32\",\n",
        "        )\n",
        "        super().build(input_shape)\n",
        "\n",
        "    def call(self, X):\n",
        "      mean, variance = tf.nn.moments(X, axes=-1, keepdims=True)\n",
        "      return self.alpha * (X - mean) / (tf.sqrt(variance + self.eps)) + self.beta\n",
        "\n",
        "    def compute_output_shape(self, batch_input_shape):\n",
        "      return batch_input_shape\n",
        "\n",
        "    def get_config(self):\n",
        "      base_config = super().get_config()\n",
        "      return {**base_config, \"eps\": self.eps}"
      ],
      "metadata": {
        "id": "5DtcbWLxJO1i"
      },
      "execution_count": null,
      "outputs": []
    },
    {
      "cell_type": "code",
      "source": [
        "X = X_train.astype(np.float32)\n",
        "\n",
        "custom_layer_norm = LayerNormalization()\n",
        "keras_layer_norm = keras.layers.LayerNormalization()\n",
        "\n",
        "tf.reduce_mean(keras.losses.mean_absolute_error(\n",
        "    keras_layer_norm(X), custom_layer_norm(X)))"
      ],
      "metadata": {
        "colab": {
          "base_uri": "https://localhost:8080/"
        },
        "id": "zUHTRYrL9WcK",
        "outputId": "a42bb644-44d6-47ea-b8ec-1afa5df423de"
      },
      "execution_count": null,
      "outputs": [
        {
          "output_type": "stream",
          "name": "stderr",
          "text": [
            "2025-01-20 04:25:58.910096: I tensorflow/compiler/xla/stream_executor/cuda/cuda_dnn.cc:442] Loaded cuDNN version 8700\n"
          ]
        },
        {
          "output_type": "execute_result",
          "data": {
            "text/plain": [
              "<tf.Tensor: shape=(), dtype=float32, numpy=4.7449034e-06>"
            ]
          },
          "metadata": {},
          "execution_count": 7
        }
      ]
    },
    {
      "cell_type": "code",
      "source": [
        "random_alpha = np.random.rand(X.shape[-1])\n",
        "random_beta = np.random.rand(X.shape[-1])\n",
        "\n",
        "custom_layer_norm.set_weights([random_alpha, random_beta])\n",
        "keras_layer_norm.set_weights([random_alpha, random_beta])\n",
        "\n",
        "tf.reduce_mean(keras.losses.mean_absolute_error(\n",
        "    keras_layer_norm(X), custom_layer_norm(X)))"
      ],
      "metadata": {
        "colab": {
          "base_uri": "https://localhost:8080/"
        },
        "id": "0no7gwjB9cMu",
        "outputId": "8c843b82-2c4d-4ad9-f08d-464e0ca860c9"
      },
      "execution_count": null,
      "outputs": [
        {
          "output_type": "execute_result",
          "data": {
            "text/plain": [
              "<tf.Tensor: shape=(), dtype=float32, numpy=3.2543217e-06>"
            ]
          },
          "metadata": {},
          "execution_count": 8
        }
      ]
    },
    {
      "cell_type": "code",
      "source": [],
      "metadata": {
        "id": "D2-6ordg9mSX"
      },
      "execution_count": null,
      "outputs": []
    }
  ]
}